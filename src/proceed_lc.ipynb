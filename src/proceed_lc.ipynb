{
 "cells": [
  {
   "cell_type": "code",
   "execution_count": 1,
   "source": [
    "import os, csv\n",
    "path = '/mnt/data1/jcxu/leetcode21'\n",
    "\n",
    "\n"
   ],
   "outputs": [],
   "metadata": {}
  },
  {
   "cell_type": "code",
   "execution_count": 4,
   "source": [
    "problem_dict = {}\n",
    "\n",
    "\n",
    "def read_top_files(fname):\n",
    "    with open(fname) as csv_file:\n",
    "        csv_reader = csv.reader(csv_file, delimiter=',')\n",
    "        line_count = 0\n",
    "        for row in csv_reader:\n",
    "            if line_count == 0:\n",
    "                # print(f'Column names are {\", \".join(row)}')\n",
    "                line_count += 1\n",
    "            else:\n",
    "                name = row[1]\n",
    "                splits = name.split('.\\xa0')\n",
    "                uid = splits[0]\n",
    "                sec_splits = splits[1].split('\\n')\n",
    "                pname = sec_splits[0]\n",
    "                tags = sec_splits[1]\n",
    "                diff = row[2]\n",
    "                if uid in problem_dict:\n",
    "                    continue\n",
    "                else:\n",
    "                    problem_dict[uid] = {\n",
    "                        'uid':uid,\n",
    "                        'name': pname,\n",
    "                        'diff': diff,\n",
    "                        'tag': tags\n",
    "                    }\n",
    "                line_count += 1\n",
    "        print(f'Processed {line_count} lines.')\n",
    "\n",
    "\n",
    "read_top_files(os.path.join(path, 'toplike-Table 1.csv'))\n",
    "read_top_files(os.path.join(path, 'topinterview-Table 1.csv'))\n",
    "print(problem_dict)\n",
    "\n",
    "with open('/mnt/data1/jcxu/leetcode21/top_problems.csv', mode='w') as wt_fd:\n",
    "    employee_writer = csv.writer(wt_fd, delimiter=',')\n",
    "    for k, v in problem_dict.items():\n",
    "        employee_writer.writerow(list(v.values()))\n"
   ],
   "outputs": [
    {
     "output_type": "stream",
     "name": "stdout",
     "text": [
      "Processed 101 lines.\n",
      "Processed 43 lines.\n",
      "{'1': {'name': 'Two Sum', 'diff': 'Easy', 'tag': 'ArrayHash Table'}, '146': {'name': 'LRU Cache', 'diff': 'Medium', 'tag': 'Hash TableLinked ListDesign1+'}, '56': {'name': 'Merge Intervals', 'diff': 'Medium', 'tag': 'ArraySorting'}, '200': {'name': 'Number of Islands', 'diff': 'Medium', 'tag': 'ArrayDepth-First Search3+'}, '42': {'name': 'Trapping Rain Water', 'diff': 'Hard', 'tag': 'ArrayTwo Pointers3+'}, '121': {'name': 'Best Time to Buy and Sell Stock', 'diff': 'Easy', 'tag': 'ArrayDynamic Programming'}, '2': {'name': 'Add Two Numbers', 'diff': 'Medium', 'tag': 'Linked ListMathRecursion'}, '4': {'name': 'Median of Two Sorted Arrays', 'diff': 'Hard', 'tag': 'ArrayBinary Search1+'}, '3': {'name': 'Longest Substring Without Repeating Characters', 'diff': 'Medium', 'tag': 'Hash TableStringSliding Window'}, '20': {'name': 'Valid Parentheses', 'diff': 'Easy', 'tag': 'StringStack'}, '560': {'name': 'Subarray Sum Equals K', 'diff': 'Medium', 'tag': 'ArrayHash TablePrefix Sum'}, '15': {'name': '3Sum', 'diff': 'Medium', 'tag': 'ArrayTwo PointersSorting'}, '5': {'name': 'Longest Palindromic Substring', 'diff': 'Medium', 'tag': 'StringDynamic Programming'}, '238': {'name': 'Product of Array Except Self', 'diff': 'Medium', 'tag': 'ArrayPrefix Sum'}, '53': {'name': 'Maximum Subarray', 'diff': 'Easy', 'tag': 'ArrayDivide and Conquer1+'}, '49': {'name': 'Group Anagrams', 'diff': 'Medium', 'tag': 'Hash TableStringSorting'}, '23': {'name': 'Merge k Sorted Lists', 'diff': 'Hard', 'tag': 'Linked ListDivide and Conquer2+'}, '215': {'name': 'Kth Largest Element in an Array', 'diff': 'Medium', 'tag': 'ArrayDivide and Conquer3+'}, '33': {'name': 'Search in Rotated Sorted Array', 'diff': 'Medium', 'tag': 'ArrayBinary Search'}, '31': {'name': 'Next Permutation', 'diff': 'Medium', 'tag': 'ArrayTwo Pointers'}, '41': {'name': 'First Missing Positive', 'diff': 'Hard', 'tag': 'ArrayHash Table'}, '17': {'name': 'Letter Combinations of a Phone Number', 'diff': 'Medium', 'tag': 'Hash TableStringBacktracking'}, '139': {'name': 'Word Break', 'diff': 'Medium', 'tag': 'Hash TableString3+'}, '11': {'name': 'Container With Most Water', 'diff': 'Medium', 'tag': 'ArrayTwo PointersGreedy'}, '297': {'name': 'Serialize and Deserialize Binary Tree', 'diff': 'Hard', 'tag': 'StringTreeDepth-First Search3+'}, '239': {'name': 'Sliding Window Maximum', 'diff': 'Hard', 'tag': 'ArrayQueueSliding Window2+'}, '22': {'name': 'Generate Parentheses', 'diff': 'Medium', 'tag': 'StringDynamic Programming1+'}, '322': {'name': 'Coin Change', 'diff': 'Medium', 'tag': 'ArrayDynamic Programming1+'}, '739': {'name': 'Daily Temperatures', 'diff': 'Medium', 'tag': 'ArrayStackMonotonic Stack'}, '206': {'name': 'Reverse Linked List', 'diff': 'Easy', 'tag': 'Linked ListRecursion'}, '79': {'name': 'Word Search', 'diff': 'Medium', 'tag': 'ArrayBacktrackingMatrix'}, '394': {'name': 'Decode String', 'diff': 'Medium', 'tag': 'StringStackRecursion'}, '48': {'name': 'Rotate Image', 'diff': 'Medium', 'tag': 'ArrayMathMatrix'}, '124': {'name': 'Binary Tree Maximum Path Sum', 'diff': 'Hard', 'tag': 'Dynamic ProgrammingTree2+'}, '347': {'name': 'Top K Frequent Elements', 'diff': 'Medium', 'tag': 'ArrayHash Table6+'}, '283': {'name': 'Move Zeroes', 'diff': 'Easy', 'tag': 'ArrayTwo Pointers'}, '138': {'name': 'Copy List with Random Pointer', 'diff': 'Medium', 'tag': 'Hash TableLinked List'}, '76': {'name': 'Minimum Window Substring', 'diff': 'Hard', 'tag': 'Hash TableStringSliding Window'}, '295': {'name': 'Find Median from Data Stream', 'diff': 'Hard', 'tag': 'Two PointersDesignSorting2+'}, '21': {'name': 'Merge Two Sorted Lists', 'diff': 'Easy', 'tag': 'Linked ListRecursion'}, '621': {'name': 'Task Scheduler', 'diff': 'Medium', 'tag': 'ArrayHash TableGreedy3+'}, '199': {'name': 'Binary Tree Right Side View', 'diff': 'Medium', 'tag': 'TreeDepth-First Search2+'}, '207': {'name': 'Course Schedule', 'diff': 'Medium', 'tag': 'Depth-First Search3+'}, '70': {'name': 'Climbing Stairs', 'diff': 'Easy', 'tag': 'MathDynamic Programming1+'}, '543': {'name': 'Diameter of Binary Tree', 'diff': 'Easy', 'tag': 'TreeDepth-First SearchBinary Tree'}, '152': {'name': 'Maximum Product Subarray', 'diff': 'Medium', 'tag': 'ArrayDynamic Programming'}, '221': {'name': 'Maximal Square', 'diff': 'Medium', 'tag': 'ArrayDynamic ProgrammingMatrix'}, '287': {'name': 'Find the Duplicate Number', 'diff': 'Medium', 'tag': 'ArrayTwo Pointers2+'}, '155': {'name': 'Min Stack', 'diff': 'Easy', 'tag': 'StackDesign'}, '10': {'name': 'Regular Expression Matching', 'diff': 'Hard', 'tag': 'StringDynamic Programming1+'}, '84': {'name': 'Largest Rectangle in Histogram', 'diff': 'Hard', 'tag': 'ArrayStackMonotonic Stack'}, '85': {'name': 'Maximal Rectangle', 'diff': 'Hard', 'tag': 'ArrayDynamic Programming3+'}, '234': {'name': 'Palindrome Linked List', 'diff': 'Easy', 'tag': 'Linked ListTwo PointersStack1+'}, '46': {'name': 'Permutations', 'diff': 'Medium', 'tag': 'ArrayBacktracking'}, '128': {'name': 'Longest Consecutive Sequence', 'diff': 'Medium', 'tag': 'ArrayHash TableUnion Find'}, '236': {'name': 'Lowest Common Ancestor of a Binary Tree', 'diff': 'Medium', 'tag': 'TreeDepth-First SearchBinary Tree'}, '32': {'name': 'Longest Valid Parentheses', 'diff': 'Hard', 'tag': 'StringDynamic ProgrammingStack'}, '34': {'name': 'Find First and Last Position of Element in Sorted Array', 'diff': 'Medium', 'tag': 'ArrayBinary Search'}, '98': {'name': 'Validate Binary Search Tree', 'diff': 'Medium', 'tag': 'TreeDepth-First Search2+'}, '39': {'name': 'Combination Sum', 'diff': 'Medium', 'tag': 'ArrayBacktracking'}, '72': {'name': 'Edit Distance', 'diff': 'Hard', 'tag': 'StringDynamic Programming'}, '45': {'name': 'Jump Game II', 'diff': 'Medium', 'tag': 'ArrayDynamic ProgrammingGreedy'}, '169': {'name': 'Majority Element', 'diff': 'Easy', 'tag': 'ArrayHash Table3+'}, '198': {'name': 'House Robber', 'diff': 'Medium', 'tag': 'ArrayDynamic Programming'}, '226': {'name': 'Invert Binary Tree', 'diff': 'Easy', 'tag': 'TreeDepth-First Search2+'}, '647': {'name': 'Palindromic Substrings', 'diff': 'Medium', 'tag': 'StringDynamic Programming'}, '78': {'name': 'Subsets', 'diff': 'Medium', 'tag': 'ArrayBacktrackingBit Manipulation'}, '763': {'name': 'Partition Labels', 'diff': 'Medium', 'tag': 'Hash TableTwo PointersString1+'}, '55': {'name': 'Jump Game', 'diff': 'Medium', 'tag': 'ArrayDynamic ProgrammingGreedy'}, '105': {'name': 'Construct Binary Tree from Preorder and Inorder Traversal', 'diff': 'Medium', 'tag': 'ArrayHash Table3+'}, '62': {'name': 'Unique Paths', 'diff': 'Medium', 'tag': 'MathDynamic Programming1+'}, '208': {'name': 'Implement Trie (Prefix Tree)', 'diff': 'Medium', 'tag': 'Hash TableStringDesign1+'}, '438': {'name': 'Find All Anagrams in a String', 'diff': 'Medium', 'tag': 'Hash TableStringSliding Window'}, '102': {'name': 'Binary Tree Level Order Traversal', 'diff': 'Medium', 'tag': 'TreeBreadth-First SearchBinary Tree'}, '494': {'name': 'Target Sum', 'diff': 'Medium', 'tag': 'ArrayDynamic Programming1+'}, '75': {'name': 'Sort Colors', 'diff': 'Medium', 'tag': 'ArrayTwo PointersSorting'}, '101': {'name': 'Symmetric Tree', 'diff': 'Easy', 'tag': 'TreeDepth-First Search2+'}, '160': {'name': 'Intersection of Two Linked Lists', 'diff': 'Easy', 'tag': 'Hash TableLinked ListTwo Pointers'}, '416': {'name': 'Partition Equal Subset Sum', 'diff': 'Medium', 'tag': 'ArrayDynamic Programming'}, '141': {'name': 'Linked List Cycle', 'diff': 'Easy', 'tag': 'Hash TableLinked ListTwo Pointers'}, '437': {'name': 'Path Sum III', 'diff': 'Medium', 'tag': 'TreeDepth-First SearchBinary Tree'}, '64': {'name': 'Minimum Path Sum', 'diff': 'Medium', 'tag': 'ArrayDynamic ProgrammingMatrix'}, '240': {'name': 'Search a 2D Matrix II', 'diff': 'Medium', 'tag': 'ArrayBinary Search2+'}, '19': {'name': 'Remove Nth Node From End of List', 'diff': 'Medium', 'tag': 'Linked ListTwo Pointers'}, '96': {'name': 'Unique Binary Search Trees', 'diff': 'Medium', 'tag': 'MathDynamic Programming3+'}, '114': {'name': 'Flatten Binary Tree to Linked List', 'diff': 'Medium', 'tag': 'Linked ListStackTree2+'}, '189': {'name': 'Rotate Array', 'diff': 'Medium', 'tag': 'ArrayMathTwo Pointers'}, '300': {'name': 'Longest Increasing Subsequence', 'diff': 'Medium', 'tag': 'ArrayBinary Search1+'}, '148': {'name': 'Sort List', 'diff': 'Medium', 'tag': 'Linked ListTwo Pointers3+'}, '617': {'name': 'Merge Two Binary Trees', 'diff': 'Easy', 'tag': 'TreeDepth-First Search2+'}, '136': {'name': 'Single Number', 'diff': 'Easy', 'tag': 'ArrayBit Manipulation'}, '448': {'name': 'Find All Numbers Disappeared in an Array', 'diff': 'Easy', 'tag': 'ArrayHash Table'}, '337': {'name': 'House Robber III', 'diff': 'Medium', 'tag': 'Dynamic ProgrammingTree2+'}, '279': {'name': 'Perfect Squares', 'diff': 'Medium', 'tag': 'MathDynamic Programming1+'}, '230': {'name': 'Kth Smallest Element in a BST', 'diff': 'Medium', 'tag': 'TreeDepth-First Search2+'}, '104': {'name': 'Maximum Depth of Binary Tree', 'diff': 'Easy', 'tag': 'TreeDepth-First Search2+'}, '142': {'name': 'Linked List Cycle II', 'diff': 'Medium', 'tag': 'Hash TableLinked ListTwo Pointers'}, '94': {'name': 'Binary Tree Inorder Traversal', 'diff': 'Easy', 'tag': 'StackTreeDepth-First Search1+'}, '378': {'name': 'Kth Smallest Element in a Sorted Matrix', 'diff': 'Medium', 'tag': 'ArrayBinary SearchSorting2+'}, '338': {'name': 'Counting Bits', 'diff': 'Easy', 'tag': 'Dynamic ProgrammingBit Manipulation'}, '253': {'name': 'Meeting Rooms II', 'diff': 'Medium', 'tag': ''}, '380': {'name': 'Insert Delete GetRandom O(1)', 'diff': 'Medium', 'tag': 'ArrayHash TableMath2+'}, '7': {'name': 'Reverse Integer', 'diff': 'Easy', 'tag': 'Math'}, '54': {'name': 'Spiral Matrix', 'diff': 'Medium', 'tag': 'ArrayMatrixSimulation'}, '127': {'name': 'Word Ladder', 'diff': 'Hard', 'tag': 'Hash TableString1+'}, '227': {'name': 'Basic Calculator II', 'diff': 'Medium', 'tag': 'MathStringStack'}, '212': {'name': 'Word Search II', 'diff': 'Hard', 'tag': 'ArrayStringBacktracking2+'}, '14': {'name': 'Longest Common Prefix', 'diff': 'Easy', 'tag': 'String'}, '269': {'name': 'Alien Dictionary', 'diff': 'Hard', 'tag': ''}, '210': {'name': 'Course Schedule II', 'diff': 'Medium', 'tag': 'Depth-First Search3+'}, '289': {'name': 'Game of Life', 'diff': 'Medium', 'tag': 'ArrayMatrixSimulation'}, '91': {'name': 'Decode Ways', 'diff': 'Medium', 'tag': 'StringDynamic Programming'}, '88': {'name': 'Merge Sorted Array', 'diff': 'Easy', 'tag': 'ArrayTwo PointersSorting'}, '140': {'name': 'Word Break II', 'diff': 'Hard', 'tag': 'Hash TableString4+'}, '341': {'name': 'Flatten Nested List Iterator', 'diff': 'Medium', 'tag': 'StackTreeDepth-First Search3+'}, '13': {'name': 'Roman to Integer', 'diff': 'Easy', 'tag': 'Hash TableMathString'}, '125': {'name': 'Valid Palindrome', 'diff': 'Easy', 'tag': 'Two PointersString'}, '412': {'name': 'Fizz Buzz', 'diff': 'Easy', 'tag': 'MathStringSimulation'}, '50': {'name': 'Pow(x, n)', 'diff': 'Medium', 'tag': 'MathRecursion'}, '134': {'name': 'Gas Station', 'diff': 'Medium', 'tag': 'ArrayGreedy'}, '348': {'name': 'Design Tic-Tac-Toe', 'diff': 'Medium', 'tag': ''}, '149': {'name': 'Max Points on a Line', 'diff': 'Hard', 'tag': 'Hash TableMathGeometry'}, '44': {'name': 'Wildcard Matching', 'diff': 'Hard', 'tag': 'StringDynamic Programming2+'}, '387': {'name': 'First Unique Character in a String', 'diff': 'Easy', 'tag': 'Hash TableStringQueue1+'}, '218': {'name': 'The Skyline Problem', 'diff': 'Hard', 'tag': 'ArrayDivide and Conquer5+'}, '103': {'name': 'Binary Tree Zigzag Level Order Traversal', 'diff': 'Medium', 'tag': 'TreeBreadth-First SearchBinary Tree'}, '38': {'name': 'Count and Say', 'diff': 'Medium', 'tag': 'String'}, '344': {'name': 'Reverse String', 'diff': 'Easy', 'tag': 'Two PointersStringRecursion'}, '122': {'name': 'Best Time to Buy and Sell Stock II', 'diff': 'Easy', 'tag': 'ArrayDynamic ProgrammingGreedy'}, '242': {'name': 'Valid Anagram', 'diff': 'Easy', 'tag': 'Hash TableStringSorting'}, '8': {'name': 'String to Integer (atoi)', 'diff': 'Medium', 'tag': 'String'}, '329': {'name': 'Longest Increasing Path in a Matrix', 'diff': 'Hard', 'tag': 'Dynamic Programming5+'}, '340': {'name': 'Longest Substring with At Most K Distinct Characters', 'diff': 'Medium', 'tag': ''}, '36': {'name': 'Valid Sudoku', 'diff': 'Medium', 'tag': 'ArrayHash TableMatrix'}, '29': {'name': 'Divide Two Integers', 'diff': 'Medium', 'tag': 'MathBit Manipulation'}, '277': {'name': 'Find the Celebrity', 'diff': 'Medium', 'tag': ''}, '150': {'name': 'Evaluate Reverse Polish Notation', 'diff': 'Medium', 'tag': 'ArrayMathStack'}, '202': {'name': 'Happy Number', 'diff': 'Easy', 'tag': 'Hash TableMathTwo Pointers'}, '166': {'name': 'Fraction to Recurring Decimal', 'diff': 'Medium', 'tag': 'Hash TableMathString'}, '371': {'name': 'Sum of Two Integers', 'diff': 'Medium', 'tag': 'MathBit Manipulation'}, '179': {'name': 'Largest Number', 'diff': 'Medium', 'tag': 'StringGreedySorting'}, '384': {'name': 'Shuffle an Array', 'diff': 'Medium', 'tag': 'ArrayMathRandomized'}}\n"
     ]
    }
   ],
   "metadata": {}
  },
  {
   "cell_type": "code",
   "execution_count": null,
   "source": [],
   "outputs": [],
   "metadata": {}
  }
 ],
 "metadata": {
  "orig_nbformat": 4,
  "language_info": {
   "name": "python"
  }
 },
 "nbformat": 4,
 "nbformat_minor": 2
}