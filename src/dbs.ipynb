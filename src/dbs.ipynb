{
 "cells": [
  {
   "cell_type": "code",
   "execution_count": null,
   "metadata": {},
   "outputs": [],
   "source": []
  },
  {
   "cell_type": "code",
   "execution_count": 5,
   "metadata": {},
   "outputs": [],
   "source": [
    "device = torch.device('cuda:0')\n",
    "model = model.to(device)"
   ]
  },
  {
   "cell_type": "code",
   "execution_count": 4,
   "metadata": {},
   "outputs": [
    {
     "ename": "NameError",
     "evalue": "name 'BeamSearchScorer' is not defined",
     "output_type": "error",
     "traceback": [
      "\u001b[0;31m---------------------------------------------------------------------------\u001b[0m",
      "\u001b[0;31mNameError\u001b[0m                                 Traceback (most recent call last)",
      "\u001b[0;32m<ipython-input-4-12cdf205993f>\u001b[0m in \u001b[0;36m<module>\u001b[0;34m\u001b[0m\n\u001b[1;32m     15\u001b[0m \u001b[0;34m\u001b[0m\u001b[0m\n\u001b[1;32m     16\u001b[0m \u001b[0;31m# instantiate beam scorer\u001b[0m\u001b[0;34m\u001b[0m\u001b[0;34m\u001b[0m\u001b[0;34m\u001b[0m\u001b[0m\n\u001b[0;32m---> 17\u001b[0;31m beam_scorer = BeamSearchScorer(\n\u001b[0m\u001b[1;32m     18\u001b[0m     \u001b[0mbatch_size\u001b[0m\u001b[0;34m=\u001b[0m\u001b[0;36m1\u001b[0m\u001b[0;34m,\u001b[0m\u001b[0;34m\u001b[0m\u001b[0;34m\u001b[0m\u001b[0m\n\u001b[1;32m     19\u001b[0m     \u001b[0mmax_length\u001b[0m\u001b[0;34m=\u001b[0m\u001b[0mmodel\u001b[0m\u001b[0;34m.\u001b[0m\u001b[0mconfig\u001b[0m\u001b[0;34m.\u001b[0m\u001b[0mmax_length\u001b[0m\u001b[0;34m,\u001b[0m\u001b[0;34m\u001b[0m\u001b[0;34m\u001b[0m\u001b[0m\n",
      "\u001b[0;31mNameError\u001b[0m: name 'BeamSearchScorer' is not defined"
     ]
    }
   ],
   "source": [
    "\n",
    "encoder_input_str = \"summarize: Transfer learning, where a model is first pre-trained on a data-rich task before being fine-tuned on a downstream task, has emerged as a powerful technique in natural language processing (NLP). The effectiveness of transfer learning has given rise to a diversity of approaches, methodology, and practice. In this paper, we explore the landscape of transfer learning techniques for NLP by introducing a unified framework that converts every language problem into a text-to-text format. Our systematic study compares pretraining objectives, architectures, unlabeled datasets, transfer approaches, and other factors on dozens of language understanding tasks. By combining the insights from our exploration with scale and our new “Colossal Clean Crawled Corpus”, we achieve state-of-the-art results on many benchmarks covering summarization, question answering, text classification, and more. To facilitate future work on transfer learning for NLP, we release our dataset, pre-trained models, and code.\"\n",
    "encoder_input_ids = tokenizer(encoder_input_str, return_tensors=\"pt\").input_ids.to(device)\n",
    "\n",
    "# lets run diverse beam search using 6 beams\n",
    "num_beams = 50\n",
    "ngroups = 10\n",
    "# define decoder start token ids\n",
    "input_ids = torch.ones((num_beams, 1), device=model.device, dtype=torch.long)\n",
    "input_ids = input_ids * model.config.decoder_start_token_id\n",
    "\n",
    "# add encoder_outputs to model keyword arguments\n",
    "model_kwargs = {\n",
    "    \"encoder_outputs\": model.get_encoder()(encoder_input_ids.repeat_interleave(num_beams, dim=0), return_dict=True)\n",
    "}\n",
    "\n",
    "# instantiate beam scorer\n",
    "beam_scorer = BeamSearchScorer(\n",
    "    batch_size=1,\n",
    "    max_length=model.config.max_length,\n",
    "    num_beams=num_beams,\n",
    "    device=model.device,\n",
    "    num_beam_groups=ngroups,\n",
    "    num_beam_hyps_to_keep=20\n",
    ")\n",
    "\n",
    "# instantiate logits processors\n",
    "logits_processor = LogitsProcessorList([\n",
    "    HammingDiversityLogitsProcessor(0.0001, num_beams=num_beams, num_beam_groups=ngroups),\n",
    "    MinLengthLogitsProcessor(20, eos_token_id=model.config.eos_token_id),\n",
    "])\n",
    "\n",
    "outputs = model.group_beam_search(input_ids, beam_scorer, logits_processor=logits_processor, **model_kwargs)\n",
    "decoded_outputs = tokenizer.batch_decode(outputs, skip_special_tokens=True)\n",
    "print(\"Generated:\", )"
   ]
  },
  {
   "cell_type": "code",
   "execution_count": 19,
   "metadata": {},
   "outputs": [
    {
     "name": "stdout",
     "output_type": "stream",
     "text": [
      "transfer learning has emerged as a powerful technique in natural language processing (NLP) a\n",
      "transfer learning has emerged as a powerful technique in natural language processing (NLP) a\n",
      "transfer learning has emerged as a powerful technique in natural language processing (NLP) a\n",
      "transfer learning has emerged as a powerful technique in natural language processing (NLP) a\n",
      "transfer learning has emerged as a powerful technique in natural language processing (NLP) a\n",
      "transfer learning has emerged as a powerful technique in natural language processing (NLP) a\n",
      "transfer learning has emerged as a powerful technique in natural language processing (NLP) a\n",
      "transfer learning has emerged as a powerful technique in natural language processing (NLP) a\n",
      "transfer learning has emerged as a powerful technique in natural language processing (NLP) a\n",
      "transfer learning has emerged as a powerful technique in natural language processing (NLP) a\n",
      "transfer learning has emerged as a powerful technique in natural language processing (NLP) the effectiveness\n",
      "transfer learning has emerged as a powerful technique in natural language processing (NLP) the effectiveness\n",
      "transfer learning has emerged as a powerful technique in natural language processing (NLP) the effectiveness\n",
      "transfer learning has emerged as a powerful technique in natural language processing (NLP) the effectiveness\n",
      "transfer learning has emerged as a powerful technique in natural language processing (NLP) the effectiveness\n",
      "transfer learning has emerged as a powerful technique in natural language processing (NLP) the effectiveness\n",
      "transfer learning has emerged as a powerful technique in natural language processing (NLP) the effectiveness\n",
      "transfer learning has emerged as a powerful technique in natural language processing (NLP) the effectiveness\n",
      "transfer learning has emerged as a powerful technique in natural language processing (NLP) the effectiveness\n",
      "transfer learning has emerged as a powerful technique in natural language processing (NLP) the effectiveness\n"
     ]
    }
   ],
   "source": [
    "for do in decoded_outputs:\n",
    "    print(do)"
   ]
  }
 ],
 "metadata": {
  "interpreter": {
   "hash": "3b2768bf9bd6425acc869120a7136bda7c2db4d32a4c0d82d14afba9d9f0b9d5"
  },
  "kernelspec": {
   "display_name": "Python 3.8.3 64-bit ('base': conda)",
   "name": "python3"
  },
  "language_info": {
   "name": "python",
   "version": ""
  },
  "orig_nbformat": 4
 },
 "nbformat": 4,
 "nbformat_minor": 2
}