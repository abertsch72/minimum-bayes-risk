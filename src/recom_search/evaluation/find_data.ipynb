{
 "cells": [
  {
   "cell_type": "code",
   "execution_count": 1,
   "metadata": {},
   "outputs": [
    {
     "name": "stderr",
     "output_type": "stream",
     "text": [
      "Using custom data configuration default\n",
      "Reusing dataset xsum (/home/jcxu/.cache/huggingface/datasets/xsum/default/1.2.0/4957825a982999fbf80bca0b342793b01b2611e021ef589fb7c6250b3577b499)\n"
     ]
    }
   ],
   "source": [
    "from datasets import load_dataset\n",
    "dataset = load_dataset(\"xsum\", split='validation')\n"
   ]
  },
  {
   "cell_type": "code",
   "execution_count": 14,
   "metadata": {},
   "outputs": [
    {
     "name": "stderr",
     "output_type": "stream",
     "text": [
      " 59%|█████▉    | 6668/11332 [00:00<00:00, 13324.44it/s]"
     ]
    },
    {
     "name": "stdout",
     "output_type": "stream",
     "text": [
      "The staff at Brickkiln Waste Limited on Heather Road were told on Friday that the company was going into administration.\n",
      "It is understood Brickkiln has been involved in a dispute with Derry City and Strabane District Council over payment for contracts.\n",
      "Brickkiln recently had its licence temporarily suspended by the Northern Ireland Environment Agency.\n",
      "This was because of breaches at its waste site in Maydown.\n",
      "In a statement, Derry City and Strabane District Council said that following the Northern Ireland Environment Agency's (NIEA) suspension of the company's waste acceptance services on 10 July, it had been working closely with Brickkiln, the NIEA and other councils to \"assist in resolving ongoing waste processing issues\".\n",
      "\"Prior to this cessation of service, council was forced to suspend payment to the company as Brickkiln had failed to fulfil contractual obligations as set down in contract specification,\" the statement added.\n",
      "\"Where invoices have been received by council demonstrating that the company has met their agreed terms, these invoices have been paid in full.\n",
      "\"Council is legally obliged to adhere to all legislation in terms of the appropriate management of waste and is committed to working with the company, the NIEA, and other councils to resolve the matter.\"\n",
      "Earlier this month, 10 appliances and almost 50 firefighters were involved in tackling a fire at the Heather Road site.\n"
     ]
    },
    {
     "name": "stderr",
     "output_type": "stream",
     "text": [
      " 88%|████████▊ | 9999/11332 [00:00<00:00, 13135.12it/s]\n"
     ]
    }
   ],
   "source": [
    "import logging\n",
    "from tqdm import tqdm\n",
    "\n",
    "nexample = 10000\n",
    "cnt = 0\n",
    "if not isinstance(dataset,zip):\n",
    "    dataset = dataset.shuffle(seed=2021)\n",
    "\n",
    "logging.info(f\"truncate dataset to {nexample}\")\n",
    "for idx, example in enumerate(tqdm(dataset)):\n",
    "    cnt += 1\n",
    "    document = example['document']\n",
    "\n",
    "    sents = document.split('\\n')\n",
    "    inp = \"\\n\".join(sents[:10])[:5000]\n",
    "    ref_sum = example['summary']\n",
    "    doc_id = example['id']\n",
    "\n",
    "    if doc_id == '33672137':\n",
    "        print(document)\n",
    "    if cnt >= nexample:\n",
    "        break"
   ]
  },
  {
   "cell_type": "code",
   "execution_count": null,
   "metadata": {},
   "outputs": [],
   "source": []
  }
 ],
 "metadata": {
  "interpreter": {
   "hash": "420e4790e749986170d2d316725b5756d5f331ffd4b0489d14c96729efd01778"
  },
  "kernelspec": {
   "display_name": "Python 3.8.3 64-bit ('base': conda)",
   "language": "python",
   "name": "python3"
  },
  "language_info": {
   "codemirror_mode": {
    "name": "ipython",
    "version": 3
   },
   "file_extension": ".py",
   "mimetype": "text/x-python",
   "name": "python",
   "nbconvert_exporter": "python",
   "pygments_lexer": "ipython3",
   "version": "3.8.3"
  },
  "orig_nbformat": 4
 },
 "nbformat": 4,
 "nbformat_minor": 2
}
