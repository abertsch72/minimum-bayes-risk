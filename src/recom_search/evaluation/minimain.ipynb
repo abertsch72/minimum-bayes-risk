{
 "cells": [
  {
   "cell_type": "code",
   "execution_count": 12,
   "metadata": {},
   "outputs": [],
   "source": [
    "# file = '/mnt/data1/jcxu/lattice-sum/output/searchsum - minimain.csv'\n",
    "file = '/mnt/data1/jcxu/lattice-sum/output/searchsum - xsum-concise.csv'\n",
    "import pandas as pd\n",
    "data = pd.read_csv(file)  "
   ]
  },
  {
   "cell_type": "code",
   "execution_count": 16,
   "metadata": {},
   "outputs": [
    {
     "name": "stdout",
     "output_type": "stream",
     "text": [
      "['bs', 'topp', 'recom_bs', 'astar', 'astar imp', 'astar low']\n",
      "   idx      model   error  num_path  log_num_path  novel_1gram  novel_2gram  \\\n",
      "0    0         bs  0.0039        16          1.20           40           57   \n",
      "1    1       topp  0.0074        16          1.20          127          232   \n",
      "2    2   recom_bs  0.0065      2115          3.33           59          100   \n",
      "3    3      astar  0.0135     95744          4.98          124          274   \n",
      "4    4  astar imp  0.0084      7758          3.89          111          239   \n",
      "5    5  astar low  0.0079       297          2.47           58           92   \n",
      "\n",
      "   log_novel_2gram  oracle_1_r2  sample_r2  rand_walk_self_bleu  \n",
      "0             1.76        25.69      17.74              88.7778  \n",
      "1             2.37        27.96      13.20              55.9062  \n",
      "2             2.00        31.70      16.26              76.0490  \n",
      "3             2.44        36.79      13.18              53.2557  \n",
      "4             2.38        35.83      15.18              65.4077  \n",
      "5             1.96        29.22      15.17              80.4071  \n"
     ]
    }
   ],
   "source": [
    "# print(data)\n",
    "df = data\n",
    "models = df['model'].values.tolist()\n",
    "path = df['num_path'].values.tolist()\n",
    "log_path = df['log_num_path'].values.tolist()\n",
    "r2 = df['sample_r2'].values.tolist()\n",
    "err = df['error'].values.tolist()\n",
    "novelbigram = df['novel_2gram'].values.tolist()\n",
    "# err = [x*100 for x in err]\n",
    "print(models)\n",
    "print(df)"
   ]
  },
  {
   "cell_type": "code",
   "execution_count": 21,
   "metadata": {},
   "outputs": [
    {
     "data": {
      "image/png": "[encoded data removed]",
      "text/plain": [
       "<Figure size 504x273.6 with 1 Axes>"
      ]
     },
     "metadata": {},
     "output_type": "display_data"
    }
   ],
   "source": [
    "import numpy as np\n",
    "import pandas as pd\n",
    "import matplotlib.pyplot as plt\n",
    "import seaborn as sns\n",
    "import matplotlib.ticker as mtick\n",
    "fig, axs = plt.subplots(nrows=1, ncols=1)\n",
    "# markers = {\"Lunch\": \"s\", \"Dinner\": \"X\"}\n",
    "axs = sns.scatterplot(data=df, x=\"log_num_path\", y=\"novel_2gram\",hue=models)\n",
    "fig.tight_layout()\n",
    "fig.savefig('mini_fig.pdf')"
   ]
  },
  {
   "cell_type": "code",
   "execution_count": 6,
   "metadata": {},
   "outputs": [
    {
     "name": "stdout",
     "output_type": "stream",
     "text": [
      "[(0.2980392156862745, 0.4470588235294118, 0.6901960784313725), (0.8666666666666667, 0.5176470588235295, 0.3215686274509804), (0.3333333333333333, 0.6588235294117647, 0.40784313725490196), (0.7686274509803922, 0.3058823529411765, 0.3215686274509804), (0.5058823529411764, 0.4470588235294118, 0.7019607843137254), (0.5764705882352941, 0.47058823529411764, 0.3764705882352941), (0.8549019607843137, 0.5450980392156862, 0.7647058823529411), (0.5490196078431373, 0.5490196078431373, 0.5490196078431373), (0.8, 0.7254901960784313, 0.4549019607843137), (0.39215686274509803, 0.7098039215686275, 0.803921568627451)]\n"
     ]
    },
    {
     "data": {
      "image/png": "[encoded data removed]",
      "text/plain": [
       "<Figure size 504x273.6 with 1 Axes>"
      ]
     },
     "metadata": {},
     "output_type": "display_data"
    }
   ],
   "source": [
    "import numpy as np\n",
    "import pandas as pd\n",
    "import matplotlib.pyplot as plt\n",
    "import seaborn as sns\n",
    "import matplotlib.ticker as mtick\n",
    "plt.rcParams[\"figure.figsize\"] = (7,3.8)\n",
    "sns.set_theme(style=\"darkgrid\")\n",
    "fig, axs = plt.subplots(nrows=1, ncols=1)\n",
    "# fig.suptitle('Vertically stacked subplots')\n",
    "# colors = ['b', 'c', 'y', 'm', 'r']\n",
    "colors = sns.color_palette()\n",
    "print(colors)\n",
    "\n",
    "ax = axs\n",
    "# ax.xaxis.set_major_formatter(mtick.PercentFormatter(decimals=1,xmax=1))\n",
    "\n",
    "\n",
    "objects = []\n",
    "for i in range(6):\n",
    "    o = ax.scatter(x=log_path[i], y=novelbigram[i], )\n",
    "    objects.append(o)\n",
    "ax.legend(objects, models,loc=2)\n",
    "ax.set_ylabel('Novel Bigrams')\n",
    "# ax.set_xlim(0.002,0.009)\n",
    "# bx = axs[1]\n",
    "# bx.xaxis.set_major_formatter(mtick.PercentFormatter(decimals=1,xmax=1))\n",
    "\n",
    "# # axs[0] = sns.scatterplot(data=df, x='Error', y='R2',hue='Model')\n",
    "# # axs[1] = sns.scatterplot(data=df, x='Error', y='log path',hue='Model')\n",
    "# objects = []\n",
    "# for i in range(4):\n",
    "#     o = bx.scatter(x=err[i], y=path[i], color=colors[i], )\n",
    "#     bx.annotate(path[i], (err[i]+0.0002, path[i]))\n",
    "#     objects.append(o)\n",
    "\n",
    "# bx.set_xlim(0.002,0.009)\n",
    "# bx.set_ylim(-1000,9000)\n",
    "# # for i, txt in enumerate(n):\n",
    "#     # ax.annotate(txt, (z[i], y[i]))\n",
    "# # bx.legend(objects, models,loc=2)\n",
    "# bx.set_ylabel(r'$|path|$')\n",
    "\n",
    "# plt.setp(ax.get_xticklabels(), visible=False)\n",
    "\n",
    "# sns.scatterplot(data=df, x=r'\\textsc{Err}', y=\"|path|\",hue='model')\n",
    "# sns.scatterplot(data=df, x='Error', y='R2',hue='model')\n",
    "# sns.scatterplot(data=df, x='Error', y='path',hue='Model')\n",
    "# sns.scatterplot(data=df, x='Error', y='log path',hue='Model')\n",
    "fig.tight_layout()\n",
    "# fig.savefig('mini_fig.pdf')\n"
   ]
  },
  {
   "cell_type": "code",
   "execution_count": null,
   "metadata": {},
   "outputs": [],
   "source": [
    "import numpy as np\n",
    "import pandas as pd\n",
    "import matplotlib.pyplot as plt\n",
    "import seaborn as sns\n",
    "import matplotlib.ticker as mtick\n",
    "plt.rcParams[\"figure.figsize\"] = (7,3.8)\n",
    "sns.set_theme(style=\"darkgrid\")\n",
    "fig, axs = plt.subplots(nrows=2, ncols=1)\n",
    "# fig.suptitle('Vertically stacked subplots')\n",
    "# colors = ['b', 'c', 'y', 'm', 'r']\n",
    "colors = sns.color_palette()\n",
    "print(colors)\n",
    "\n",
    "ax = axs[0]\n",
    "ax.xaxis.set_major_formatter(mtick.PercentFormatter(decimals=1,xmax=1))\n",
    "\n",
    "\n",
    "objects = []\n",
    "for i in range(4):\n",
    "    o = ax.scatter(x=err[i], y=r2[i], color=colors[i],)\n",
    "    objects.append(o)\n",
    "ax.legend(objects, models,loc=2)\n",
    "ax.set_ylabel('Oracle R2')\n",
    "ax.set_xlim(0.002,0.009)\n",
    "bx = axs[1]\n",
    "bx.xaxis.set_major_formatter(mtick.PercentFormatter(decimals=1,xmax=1))\n",
    "\n",
    "# axs[0] = sns.scatterplot(data=df, x='Error', y='R2',hue='Model')\n",
    "# axs[1] = sns.scatterplot(data=df, x='Error', y='log path',hue='Model')\n",
    "objects = []\n",
    "for i in range(4):\n",
    "    o = bx.scatter(x=err[i], y=path[i], color=colors[i], )\n",
    "    bx.annotate(path[i], (err[i]+0.0002, path[i]))\n",
    "    objects.append(o)\n",
    "\n",
    "bx.set_xlim(0.002,0.009)\n",
    "bx.set_ylim(-1000,9000)\n",
    "# for i, txt in enumerate(n):\n",
    "    # ax.annotate(txt, (z[i], y[i]))\n",
    "# bx.legend(objects, models,loc=2)\n",
    "bx.set_ylabel(r'$|path|$')\n",
    "\n",
    "plt.setp(ax.get_xticklabels(), visible=False)\n",
    "\n",
    "# sns.scatterplot(data=df, x=r'\\textsc{Err}', y=\"|path|\",hue='model')\n",
    "# sns.scatterplot(data=df, x='Error', y='R2',hue='model')\n",
    "# sns.scatterplot(data=df, x='Error', y='path',hue='Model')\n",
    "# sns.scatterplot(data=df, x='Error', y='log path',hue='Model')\n",
    "fig.tight_layout()\n",
    "fig.savefig('mini_fig.pdf')\n"
   ]
  },
  {
   "cell_type": "code",
   "execution_count": null,
   "metadata": {},
   "outputs": [],
   "source": []
  }
 ],
 "metadata": {
  "interpreter": {
   "hash": "420e4790e749986170d2d316725b5756d5f331ffd4b0489d14c96729efd01778"
  },
  "kernelspec": {
   "display_name": "Python 3.8.3 64-bit ('base': conda)",
   "language": "python",
   "name": "python3"
  },
  "language_info": {
   "codemirror_mode": {
    "name": "ipython",
    "version": 3
   },
   "file_extension": ".py",
   "mimetype": "text/x-python",
   "name": "python",
   "nbconvert_exporter": "python",
   "pygments_lexer": "ipython3",
   "version": "3.8.3"
  },
  "orig_nbformat": 4
 },
 "nbformat": 4,
 "nbformat_minor": 2
}
