{
 "cells": [
  {
   "cell_type": "code",
   "execution_count": 1,
   "metadata": {},
   "outputs": [
    {
     "name": "stdout",
     "output_type": "stream",
     "text": [
      "[(0.00392156862745098, 0.45098039215686275, 0.6980392156862745), (0.8705882352941177, 0.5607843137254902, 0.0196078431372549), (0.00784313725490196, 0.6196078431372549, 0.45098039215686275), (0.8352941176470589, 0.3686274509803922, 0.0), (0.8, 0.47058823529411764, 0.7372549019607844), (0.792156862745098, 0.5686274509803921, 0.3803921568627451), (0.984313725490196, 0.6862745098039216, 0.8941176470588236), (0.5803921568627451, 0.5803921568627451, 0.5803921568627451)]\n",
      "   Method  n  l  R2_raw     EM    R2\n",
      "0     RCB  2  8   0.567  0.500  56.7\n",
      "1     ZIP  2  8   0.586  0.502  58.6\n",
      "2     RCB  2  4   0.575  0.578  57.5\n",
      "3     ZIP  2  4   0.602  0.595  60.2\n",
      "4     RCB  2  2   0.502  0.681  50.2\n",
      "5     ZIP  2  2   0.551  0.717  55.1\n",
      "6     RCB  2  1   0.000  0.772   0.0\n",
      "7     ZIP  2  1   0.000  0.882   0.0\n",
      "8     RCB  4  8   0.666  0.598  66.6\n",
      "9     ZIP  4  8   0.655  0.539  65.5\n",
      "10    RCB  4  4   0.704  0.712  70.4\n",
      "11    ZIP  4  4   0.658  0.625  65.8\n",
      "12    RCB  4  2   0.598  0.793  59.8\n",
      "13    ZIP  4  2   0.605  0.727  60.5\n",
      "14    RCB  4  1   0.000  0.859   0.0\n",
      "15    ZIP  4  1   0.000  0.814   0.0\n",
      "16    RCB  6  8   0.675  0.669  67.5\n",
      "17    ZIP  6  8   0.673  0.495  67.3\n",
      "18    RCB  6  4   0.661  0.739  66.1\n",
      "19    ZIP  6  4   0.717  0.659  71.7\n",
      "20    RCB  6  2   0.522  0.808  52.2\n",
      "21    ZIP  6  2   0.665  0.775  66.5\n",
      "22    RCB  6  1   0.000  0.883   0.0\n",
      "23    ZIP  6  1   0.000  0.851   0.0\n"
     ]
    }
   ],
   "source": [
    "import pandas as pd\n",
    "df = pd.read_csv('/mnt/data1/jcxu/lattice-sum/output/searchsum - recomb_check.csv')\n",
    "import matplotlib.pyplot as plt\n",
    "import seaborn as sns\n",
    "sns.set_theme(style=\"whitegrid\", color_codes=True)\n",
    "\n",
    "# plt.rcParams[\"figure.figsize\"] = (5,2.2)\n",
    "\n",
    "cpname = 'colorblind'\n",
    "colors = sns.color_palette(cpname,8)\n",
    "print(colors)\n",
    "print(df)\n",
    "# our_color = colors[0]\n",
    "# bfs_color = colors[6]"
   ]
  },
  {
   "cell_type": "code",
   "execution_count": 2,
   "metadata": {},
   "outputs": [
    {
     "name": "stderr",
     "output_type": "stream",
     "text": [
      "<ipython-input-2-585313747b99>:2: UserWarning: Boolean Series key will be reindexed to match DataFrame index.\n",
      "  class8 = df[df[\"l\"]==8 ][df['Method'] == 'RCB']\n",
      "<ipython-input-2-585313747b99>:3: UserWarning: Boolean Series key will be reindexed to match DataFrame index.\n",
      "  class4 = df[df[\"l\"]==4][df['Method'] == 'RCB']\n",
      "<ipython-input-2-585313747b99>:4: UserWarning: Boolean Series key will be reindexed to match DataFrame index.\n",
      "  class2 = df[df[\"l\"]==2][df['Method'] == 'RCB']\n",
      "<ipython-input-2-585313747b99>:5: UserWarning: Boolean Series key will be reindexed to match DataFrame index.\n",
      "  class1 = df[df[\"l\"]==1][df['Method'] == 'RCB']\n",
      "<ipython-input-2-585313747b99>:7: UserWarning: Boolean Series key will be reindexed to match DataFrame index.\n",
      "  class8z = df[df[\"l\"]==8 ][df['Method'] == 'ZIP']\n",
      "<ipython-input-2-585313747b99>:8: UserWarning: Boolean Series key will be reindexed to match DataFrame index.\n",
      "  class4z = df[df[\"l\"]==4][df['Method'] == 'ZIP']\n",
      "<ipython-input-2-585313747b99>:9: UserWarning: Boolean Series key will be reindexed to match DataFrame index.\n",
      "  class2z = df[df[\"l\"]==2][df['Method'] == 'ZIP']\n",
      "<ipython-input-2-585313747b99>:10: UserWarning: Boolean Series key will be reindexed to match DataFrame index.\n",
      "  class1z = df[df[\"l\"]==1][df['Method'] == 'ZIP']\n"
     ]
    }
   ],
   "source": [
    "# df['l'] == 8\n",
    "class8 = df[df[\"l\"]==8 ][df['Method'] == 'RCB']\n",
    "class4 = df[df[\"l\"]==4][df['Method'] == 'RCB']\n",
    "class2 = df[df[\"l\"]==2][df['Method'] == 'RCB']\n",
    "class1 = df[df[\"l\"]==1][df['Method'] == 'RCB']\n",
    "\n",
    "class8z = df[df[\"l\"]==8 ][df['Method'] == 'ZIP']\n",
    "class4z = df[df[\"l\"]==4][df['Method'] == 'ZIP']\n",
    "class2z = df[df[\"l\"]==2][df['Method'] == 'ZIP']\n",
    "class1z = df[df[\"l\"]==1][df['Method'] == 'ZIP']"
   ]
  },
  {
   "cell_type": "code",
   "execution_count": 3,
   "metadata": {},
   "outputs": [
    {
     "data": {
      "image/png": "[encoded data removed]",
      "text/plain": [
       "<Figure size 360x180 with 2 Axes>"
      ]
     },
     "metadata": {},
     "output_type": "display_data"
    }
   ],
   "source": [
    "# sns.lineplot(    data=df, x=\"n\", y=\"EM\", hue=\"Method\", style=\"l\",)\n",
    "# g = sns.catplot(\n",
    "#     data=df, kind=\"bar\",\n",
    "#     x=\"n\", y=\"EM\", hue=\"Method\",\n",
    "#     # ci=\"sd\", palette=\"dark\", alpha=.6, height=6\n",
    "# )\n",
    "with sns.axes_style(\"darkgrid\"):\n",
    "    fig, axes = plt.subplots(figsize=(5, 2.5),nrows=1, ncols=2,sharex='all', sharey='all')\n",
    "    # axes[0].set_ylim((0.4,1))\n",
    "    sns.set_color_codes(\"deep\")\n",
    "    # sns.barplot(ax=axes[0], x=\"n\", y=\"EM\", data=class1, label=\"1\", color=\"b\", ci=None)\n",
    "    sns.set_color_codes(\"colorblind\")\n",
    "    sns.barplot(ax=axes[0],x=\"n\", y=\"EM\", data=class2, label=\"2\", color=\"b\", ci=None)\n",
    "    sns.set_color_codes(\"pastel\")\n",
    "    sns.barplot(ax=axes[0],x=\"n\", y=\"EM\", data=class4, label=\"4\", color=\"b\", ci=None)\n",
    "    sns.set_color_codes(\"muted\")\n",
    "    sns.barplot(ax=axes[0],x=\"n\", y=\"EM\", data=class8,label=\"8\", color=\"b\", ci=None)\n",
    "    axes[0].set_xlabel(r'$n$')\n",
    "    axes[0].set_title('RCB')\n",
    "    axes[1].set_ylim((0,0.85))\n",
    "\n",
    "\n",
    "\n",
    "    sns.set_color_codes(\"deep\")\n",
    "    # sns.barplot(ax=axes[1],x=\"n\", y=\"EM\", data=class1z, label=\"1\", color=\"b\", ci=None)\n",
    "    sns.set_color_codes(\"colorblind\")\n",
    "    sns.barplot(ax=axes[1],x=\"n\", y=\"EM\", data=class2z, label=\"2\", color=\"b\", ci=None)\n",
    "    sns.set_color_codes(\"pastel\")\n",
    "    sns.barplot(ax=axes[1],x=\"n\", y=\"EM\", data=class4z, label=\"4\", color=\"b\", ci=None)\n",
    "    sns.set_color_codes(\"muted\")\n",
    "    sns.barplot(ax=axes[1],x=\"n\", y=\"EM\", data=class8z,label=\"8\", color=\"b\", ci=None)\n",
    "    # sns.set_theme(style=\"whitegrid\", color_codes=True)\n",
    "\n",
    "    # Add a legend and informative axis label\n",
    "    axes[1].legend(ncol=1, loc='center right', frameon=True,title='L', handletextpad=0.2,borderaxespad =0.1,columnspacing=0, bbox_to_anchor=(1.5, 0.5))\n",
    "    axes[1].set_xlabel(r'$n$')\n",
    "    axes[1].set_ylabel(\"\")\n",
    "    axes[1].set_title('ZIP')\n",
    "    # axes[1].get_yaxis().set_visible(False)\n",
    "\n",
    "# ax.set( ylabel=\"Exact Match\", ylim=(0.4,0.9),xlabel=r\"$n$-suffix\")\n",
    "sns.despine(right=True)\n",
    "\n",
    "fig.tight_layout()\n",
    "plt.savefig('recomb.pdf')\n"
   ]
  },
  {
   "cell_type": "code",
   "execution_count": null,
   "metadata": {},
   "outputs": [],
   "source": []
  }
 ],
 "metadata": {
  "interpreter": {
   "hash": "420e4790e749986170d2d316725b5756d5f331ffd4b0489d14c96729efd01778"
  },
  "kernelspec": {
   "display_name": "Python 3.8.3 64-bit ('base': conda)",
   "language": "python",
   "name": "python3"
  },
  "language_info": {
   "codemirror_mode": {
    "name": "ipython",
    "version": 3
   },
   "file_extension": ".py",
   "mimetype": "text/x-python",
   "name": "python",
   "nbconvert_exporter": "python",
   "pygments_lexer": "ipython3",
   "version": "3.8.3"
  },
  "orig_nbformat": 4
 },
 "nbformat": 4,
 "nbformat_minor": 2
}
