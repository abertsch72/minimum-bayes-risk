{
 "metadata": {
  "language_info": {
   "codemirror_mode": {
    "name": "ipython",
    "version": 3
   },
   "file_extension": ".py",
   "mimetype": "text/x-python",
   "name": "python",
   "nbconvert_exporter": "python",
   "pygments_lexer": "ipython3",
   "version": "3.8.3-final"
  },
  "orig_nbformat": 2,
  "kernelspec": {
   "name": "python383jvsc74a57bd03b2768bf9bd6425acc869120a7136bda7c2db4d32a4c0d82d14afba9d9f0b9d5",
   "display_name": "Python 3.8.3 64-bit ('base': conda)"
  }
 },
 "nbformat": 4,
 "nbformat_minor": 2,
 "cells": [
  {
   "cell_type": "code",
   "execution_count": 3,
   "metadata": {},
   "outputs": [],
   "source": [
    "import spacy\n",
    "\n",
    "nlp = spacy.load(\"en_core_web_sm\")\n"
   ]
  },
  {
   "cell_type": "code",
   "execution_count": 16,
   "metadata": {},
   "outputs": [
    {
     "output_type": "stream",
     "name": "stdout",
     "text": [
      "annual annual ADJ JJ ROOT xxxx True False\nEuropean european ADJ JJ ROOT Xxxxx True False\nAC AC PROPN NNP ROOT XX True False\n2018 2018 NUM CD ROOT dddd False False\nConference conference NOUN NN ROOT Xxxxx True False\nInternational international ADJ JJ ROOT Xxxxx True False\nNeural neural ADJ JJ ROOT Xxxxx True False\nAmerican American PROPN NNP ROOT Xxxxx True False\nconference conference NOUN NN ROOT xxxx True False\nNational national ADJ JJ ROOT Xxxxx True False\n"
     ]
    }
   ],
   "source": [
    "\n",
    "\n",
    "text = [' annual', ' European', ' AC', ' 2018', ' Conference', ' International', ' Neural', ' American', ' conference', ' National']\n",
    "for t in text:\n",
    "    doc = nlp(t.strip())\n",
    "    for token in doc:\n",
    "        print(token.text, token.lemma_, token.pos_, token.tag_, token.dep_,\n",
    "                token.shape_, token.is_alpha, token.is_stop)"
   ]
  },
  {
   "cell_type": "code",
   "execution_count": null,
   "metadata": {},
   "outputs": [],
   "source": []
  }
 ]
}