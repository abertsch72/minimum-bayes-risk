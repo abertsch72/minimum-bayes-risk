{
 "cells": [
  {
   "cell_type": "code",
   "execution_count": 8,
   "source": [
    "\n",
    "\n",
    "\n",
    "tokenizer = T5Tokenizer.from_pretrained('t5-small')\n",
    "model = T5ForConditionalGeneration.from_pretrained('google/t5-v1_1-base')\n",
    "\n",
    "\n",
    "# T5 inference\n",
    "input_ids = tokenizer(\"summarize: The tower is 324 metres (1,063 ft) tall, \", return_tensors=\"pt\").input_ids  # Batch size 1\n",
    "outputs = model.generate(input_ids)\n",
    "print(tokenizer.decode(outputs[0], skip_special_tokens=True))\n",
    "# studies have shown that owning a dog is good for you."
   ],
   "outputs": [
    {
     "output_type": "stream",
     "name": "stdout",
     "text": [
      "....tt.t.t.\n"
     ]
    }
   ],
   "metadata": {}
  },
  {
   "cell_type": "code",
   "execution_count": 9,
   "source": [
    "import transformers\n",
    "\n",
    "from transformers import T5Tokenizer, T5ForConditionalGeneration\n",
    "from transformers import BartForConditionalGeneration,BartTokenizer\n",
    "import datasets\n",
    "from datasets import load_dataset\n",
    "\n",
    "\n",
    "dataset = load_dataset('xsum',split='validation')\n"
   ],
   "outputs": [
    {
     "output_type": "stream",
     "name": "stderr",
     "text": [
      "Using custom data configuration default\n",
      "Reusing dataset xsum (/home/jcxu/.cache/huggingface/datasets/xsum/default/1.2.0/4957825a982999fbf80bca0b342793b01b2611e021ef589fb7c6250b3577b499)\n"
     ]
    }
   ],
   "metadata": {}
  },
  {
   "cell_type": "code",
   "execution_count": 12,
   "source": [
    "import pickle\n",
    "import pandas as pd\n",
    "\n",
    "with open('../tmp_data.pkl','rb') as fd:\n",
    "    df =pickle.load(fd)\n",
    "print(df)"
   ],
   "outputs": [
    {
     "output_type": "stream",
     "name": "stdout",
     "text": [
      "                                                   gen  \\\n",
      "0    Apple has been accused of misleading Australia...   \n",
      "1    Apple has been accused of misleading Australia...   \n",
      "2    Apple has been accused of misleading Australia...   \n",
      "3    Apple has been accused of misleading customers...   \n",
      "4    Apple has been accused of misleading Australia...   \n",
      "..                                                 ...   \n",
      "205  At least six people have been killed in clashe...   \n",
      "206  At least seven people have been killed in clas...   \n",
      "207  At least six people have been killed in clashe...   \n",
      "208  At least six people have been killed in clashe...   \n",
      "209  At least six people have been killed in clashe...   \n",
      "\n",
      "                                                   ref     score     rouge  \\\n",
      "0    US technology firm Apple has offered to refund... -0.640819  0.375000   \n",
      "1    US technology firm Apple has offered to refund... -0.644143  0.363636   \n",
      "2    US technology firm Apple has offered to refund... -0.646291  0.424242   \n",
      "3    US technology firm Apple has offered to refund... -0.661839  0.352941   \n",
      "4    US technology firm Apple has offered to refund... -0.665881  0.437500   \n",
      "..                                                 ...       ...       ...   \n",
      "205  At least five civilians were killed as India a... -0.619430  0.470588   \n",
      "206  At least five civilians were killed as India a... -0.622893  0.470588   \n",
      "207  At least five civilians were killed as India a... -0.637350  0.470588   \n",
      "208  At least five civilians were killed as India a... -0.656125  0.360000   \n",
      "209  At least five civilians were killed as India a... -0.659281  0.392157   \n",
      "\n",
      "     top_score  top_rouge  \n",
      "0    -0.640819   0.437500  \n",
      "1    -0.640819   0.437500  \n",
      "2    -0.640819   0.437500  \n",
      "3    -0.640819   0.437500  \n",
      "4    -0.640819   0.437500  \n",
      "..         ...        ...  \n",
      "205  -0.533515   0.470588  \n",
      "206  -0.533515   0.470588  \n",
      "207  -0.533515   0.470588  \n",
      "208  -0.533515   0.470588  \n",
      "209  -0.533515   0.470588  \n",
      "\n",
      "[210 rows x 6 columns]\n"
     ]
    }
   ],
   "metadata": {}
  },
  {
   "cell_type": "code",
   "execution_count": 14,
   "source": [
    "df['delta_score'] = df.apply(lambda row: row.score - row.top_score, axis=1)\n",
    "df['delta_rouge'] = df.apply(lambda row: row.rouge - row.top_rouge, axis=1)\n"
   ],
   "outputs": [],
   "metadata": {}
  },
  {
   "cell_type": "code",
   "execution_count": 16,
   "source": [
    "\n",
    "import seaborn as sns\n",
    "sns.set_theme(style=\"white\", color_codes=True)\n",
    "\n",
    "\n",
    "# Use JointGrid directly to draw a custom plot\n",
    "g = sns.JointGrid(data=df, x=\"delta_score\", y=\"delta_rouge\")\n",
    "g.plot_joint(sns.scatterplot,\n",
    "             color=\"g\", alpha=.6, legend=False)\n",
    "g.plot_marginals(sns.rugplot, height=1, color=\"g\", alpha=.6)"
   ],
   "outputs": [
    {
     "output_type": "execute_result",
     "data": {
      "text/plain": [
       "<seaborn.axisgrid.JointGrid at 0x7faa80a3ecd0>"
      ]
     },
     "metadata": {},
     "execution_count": 16
    },
    {
     "output_type": "display_data",
     "data": {
      "image/png": "[encoded data removed]",
      "text/plain": [
       "<Figure size 432x432 with 3 Axes>"
      ]
     },
     "metadata": {}
    }
   ],
   "metadata": {}
  },
  {
   "cell_type": "code",
   "execution_count": null,
   "source": [],
   "outputs": [],
   "metadata": {}
  },
  {
   "cell_type": "code",
   "execution_count": null,
   "source": [],
   "outputs": [],
   "metadata": {}
  }
 ],
 "metadata": {
  "orig_nbformat": 4,
  "language_info": {
   "name": "python",
   "version": "3.8.3",
   "mimetype": "text/x-python",
   "codemirror_mode": {
    "name": "ipython",
    "version": 3
   },
   "pygments_lexer": "ipython3",
   "nbconvert_exporter": "python",
   "file_extension": ".py"
  },
  "kernelspec": {
   "name": "python3",
   "display_name": "Python 3.8.3 64-bit ('base': conda)"
  },
  "interpreter": {
   "hash": "3b2768bf9bd6425acc869120a7136bda7c2db4d32a4c0d82d14afba9d9f0b9d5"
  }
 },
 "nbformat": 4,
 "nbformat_minor": 2
}