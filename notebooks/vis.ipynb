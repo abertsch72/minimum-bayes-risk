{
 "cells": [
  {
   "cell_type": "code",
   "execution_count": 1,
   "metadata": {},
   "outputs": [
    {
     "data": {
      "image/png": "[encoded data removed]",
      "text/plain": [
       "<Figure size 144x144 with 1 Axes>"
      ]
     },
     "metadata": {
      "needs_background": "light"
     },
     "output_type": "display_data"
    }
   ],
   "source": [
    "import matplotlib.pyplot as plt\n",
    "import numpy as np\n",
    "\n",
    "plt.style.use('_mpl-gallery')\n",
    "\n",
    "# make the data\n",
    "error = [1.88,2.09,2.54,1.49,2.08,1.88]\n",
    "num_path_log = [1.2,\n",
    "5.5,\n",
    "4.3,\n",
    "1.3,\n",
    "1.3,\n",
    "2.9]\n",
    "novel_1gram = [39,\n",
    "104,\n",
    "122,\n",
    "42,\n",
    "63,\n",
    "65]\n",
    "oracle_1_r2 = [0.48,\n",
    "0.45,\n",
    "0.53,\n",
    "0.22,\n",
    "0.18,\n",
    "0.16] \n",
    "name = [\"topp0.8\",\n",
    "\"astar\",\n",
    "\"astar\",\n",
    "\"bs\",\n",
    "\"dbs\",\n",
    "\"recom_bs\"]\n",
    "# plot\n",
    "fig, ax = plt.subplots()\n",
    "y = oracle_1_r2\n",
    "ax.scatter(num_path_log, y)\n",
    "\n",
    "for i, txt in enumerate(name):\n",
    "    ax.annotate(txt, (num_path_log[i], y[i]))\n",
    "\n",
    "# ax.set(xlim=(0, 8), xticks=np.arange(1, 8),\n",
    "#        ylim=(0, 8), yticks=np.arange(1, 8))\n",
    "\n",
    "plt.show()"
   ]
  }
 ],
 "metadata": {
  "interpreter": {
   "hash": "420e4790e749986170d2d316725b5756d5f331ffd4b0489d14c96729efd01778"
  },
  "kernelspec": {
   "display_name": "Python 3.8.3 64-bit ('base': conda)",
   "language": "python",
   "name": "python3"
  },
  "language_info": {
   "codemirror_mode": {
    "name": "ipython",
    "version": 3
   },
   "file_extension": ".py",
   "mimetype": "text/x-python",
   "name": "python",
   "nbconvert_exporter": "python",
   "pygments_lexer": "ipython3",
   "version": "3.8.3"
  },
  "orig_nbformat": 4
 },
 "nbformat": 4,
 "nbformat_minor": 2
}
