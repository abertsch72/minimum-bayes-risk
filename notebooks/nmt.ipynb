{
 "cells": [
  {
   "cell_type": "code",
   "execution_count": null,
   "metadata": {},
   "outputs": [],
   "source": [
    "import datasets\n",
    "\n",
    "\n",
    "import tensorflow_datasets as tfds\n",
    "config = tfds.translate.wmt.WmtConfig(\n",
    "    version=\"0.0.1\",\n",
    "    language_pair=(\"fr\", \"de\"),\n",
    "    subsets={\n",
    "        tfds.Split.TRAIN: [\"commoncrawl_frde\"],\n",
    "        tfds.Split.VALIDATION: [\"euelections_dev2019\"],\n",
    "    },\n",
    ")\n",
    "builder = tfds.builder(\"wmt_translate\", config=config)"
   ]
  },
  {
   "cell_type": "code",
   "execution_count": null,
   "metadata": {},
   "outputs": [],
   "source": [
    "from datasets import load_dataset\n",
    "\n",
    "dataset = load_dataset('xsum', 'test')"
   ]
  },
  {
   "cell_type": "code",
   "execution_count": null,
   "metadata": {},
   "outputs": [],
   "source": [
    "d = dataset['validation']\n",
    "cnt = 500\n",
    "for ex in d:\n",
    "    print(ex['summary'])\n",
    "    break"
   ]
  },
  {
   "cell_type": "code",
   "execution_count": null,
   "metadata": {},
   "outputs": [],
   "source": [
    "test_set = dataset['test']\n",
    "print(test_set[0])"
   ]
  },
  {
   "cell_type": "code",
   "execution_count": null,
   "metadata": {},
   "outputs": [],
   "source": [
    "# T5 translation\n",
    "from transformers import AutoTokenizer, AutoModelWithLMHead\n",
    "  \n",
    "tokenizer = AutoTokenizer.from_pretrained(\"t5-base\")\n",
    "\n",
    "model = AutoModelWithLMHead.from_pretrained(\"t5-base\")"
   ]
  },
  {
   "cell_type": "code",
   "execution_count": null,
   "metadata": {},
   "outputs": [],
   "source": [
    "# facebook mbart\n",
    "from transformers import MBartForConditionalGeneration, MBart50TokenizerFast\n",
    "article_en = \"The head of the United Nations says there is no military solution in Syria\"\n",
    "model = MBartForConditionalGeneration.from_pretrained(\"facebook/mbart-large-50-one-to-many-mmt\")\n",
    "tokenizer = MBart50TokenizerFast.from_pretrained(\"facebook/mbart-large-50-one-to-many-mmt\", src_lang=\"en_XX\")\n",
    "\n",
    "model_inputs = tokenizer(article_en, return_tensors=\"pt\")\n",
    "\n",
    "# translate from English to Chinese\n",
    "generated_tokens = model.generate(\n",
    "    **model_inputs,\n",
    "    forced_bos_token_id=tokenizer.lang_code_to_id[\"ja_XX\"]\n",
    ")\n",
    "print(generated_tokens)\n",
    "tokenizer.batch_decode(generated_tokens, skip_special_tokens=True)\n",
    "# => '联合国首脑说,叙利亚没有军事解决办法'"
   ]
  },
  {
   "cell_type": "code",
   "execution_count": null,
   "metadata": {},
   "outputs": [],
   "source": [
    "generated_tokens = model.generate(\n",
    "    **model_inputs,\n",
    "    forced_bos_token_id=tokenizer.lang_code_to_id[\"fr_XX\"],num_return_sequences=5,num_beams=1,top_p=0.99, do_sample=True\n",
    ")\n",
    "# print(generated_tokens)\n",
    "print(tokenizer.batch_decode(generated_tokens, skip_special_tokens=True))"
   ]
  },
  {
   "cell_type": "code",
   "execution_count": null,
   "metadata": {},
   "outputs": [],
   "source": [
    "generated_tokens = model.generate(\n",
    "    **model_inputs,\n",
    "    forced_bos_token_id=tokenizer.lang_code_to_id[\"zh_CN\"],num_return_sequences=5,num_beams=1,top_p=0.5, do_sample=True\n",
    ")\n",
    "# print(generated_tokens)\n",
    "print(tokenizer.batch_decode(generated_tokens, skip_special_tokens=True))"
   ]
  },
  {
   "cell_type": "code",
   "execution_count": null,
   "metadata": {},
   "outputs": [],
   "source": [
    "from transformers import MBartForConditionalGeneration, MBart50TokenizerFast\n",
    "\n",
    "article_hi = \"संयुक्त राष्ट्र के प्रमुख का कहना है कि सीरिया में कोई सैन्य समाधान नहीं है\"\n",
    "article_ar = \"الأمين العام للأمم المتحدة يقول إنه لا يوجد حل عسكري في سوريا.\"\n",
    "article_zh = \"全球主要经济体的领导人同意采取“有意义和有效的行动”，努力控制全球变暖。但是，在罗马举行的G20峰会上达成的协议几乎没有做出具体承诺，这让活动人士感到失望。主办国意大利曾希望在格拉斯哥召开的COP26峰会之前设定明确目标，而这次峰会现在已经开始了。\"\n",
    "\n",
    "# model = MBartForConditionalGeneration.from_pretrained(\"facebook/mbart-large-50-many-to-one-mmt\")\n",
    "tokenizer = MBart50TokenizerFast.from_pretrained(\"facebook/mbart-large-50-many-to-one-mmt\")\n"
   ]
  },
  {
   "cell_type": "code",
   "execution_count": null,
   "metadata": {},
   "outputs": [],
   "source": [
    "x = 10740\n",
    "print(tokenizer.decode([x]))\n",
    "print(tokenizer.convert_ids_to_tokens(x))\n",
    "print(tokenizer.eos_token_id)"
   ]
  },
  {
   "cell_type": "code",
   "execution_count": null,
   "metadata": {},
   "outputs": [],
   "source": [
    "print(tokenizer.special_tokens_map)\n",
    "print(tokenizer.lang_code_to_id)\n",
    "print(tokenizer.special_tokens_map['additional_special_tokens'])\n",
    "# translate Hindi to English\n",
    "tokenizer.src_lang = \"hi_IN\"\n",
    "encoded_hi = tokenizer(article_hi, return_tensors=\"pt\")\n",
    "generated_tokens = model.generate(**encoded_hi)\n",
    "tokenizer.batch_decode(generated_tokens, skip_special_tokens=True)\n",
    "# => \"The head of the UN says there is no military solution in Syria.\"\n",
    "print(generated_tokens)\n",
    "# print(tokenizer.lang_code_to_id(\"hi_IN\"))\n",
    "# translate Arabic to English\n",
    "tokenizer.src_lang = \"ar_AR\"\n",
    "encoded_ar = tokenizer(article_ar, return_tensors=\"pt\")\n",
    "generated_tokens = model.generate(**encoded_ar)\n",
    "tokenizer.batch_decode(generated_tokens, skip_special_tokens=True)\n",
    "# => \"The Secretary-General of the United Nations says there is no military solution in Syria.\"\n",
    "print(generated_tokens)\n",
    "\n",
    "\n",
    "# translate Arabic to English\n",
    "tokenizer.src_lang = \"zh_CN\"\n",
    "encoded_ar = tokenizer(article_zh, return_tensors=\"pt\")\n",
    "generated_tokens = model.generate(**encoded_ar)\n",
    "tokenizer.batch_decode(generated_tokens, skip_special_tokens=True)\n",
    "print(generated_tokens)\n",
    "\n",
    "# => \"The Secretary-General of the United Nations says there is no military solution in Syria.\"\n",
    "\n"
   ]
  },
  {
   "cell_type": "code",
   "execution_count": null,
   "metadata": {},
   "outputs": [],
   "source": [
    "print(tokenizer.decode(2))"
   ]
  },
  {
   "cell_type": "code",
   "execution_count": null,
   "metadata": {},
   "outputs": [],
   "source": [
    "\n",
    "# translate Hindi to English\n",
    "article_hi = \"संयुक्त राष्ट्र के प्रमुख का कहना है कि सीरिया में कोई सैन्य समाधान नहीं है\"\n",
    "article_zh=\"为什么是这？谁知道\"\n",
    "# translate Arabic to English\n",
    "tokenizer.src_lang = \"zh_CN\"\n",
    "encoded_ar = tokenizer(article_zh, return_tensors=\"pt\")\n",
    "generated_tokens = model.generate(**encoded_ar)\n",
    "tokenizer.batch_decode(generated_tokens, skip_special_tokens=True)\n",
    "print(generated_tokens)\n",
    "\n",
    "print(tokenizer.decode([2,250010,44269],skip_special_tokens=False)) \n",
    "print(tokenizer.decode([2, 250025,6],skip_special_tokens=False))"
   ]
  },
  {
   "cell_type": "code",
   "execution_count": null,
   "metadata": {},
   "outputs": [],
   "source": [
    "from datasets import load_metric\n",
    "from sacrebleu.metrics import BLEU, CHRF, TER"
   ]
  },
  {
   "cell_type": "code",
   "execution_count": null,
   "metadata": {},
   "outputs": [],
   "source": [
    "bleu = BLEU()\n",
    "sys = ['今天 是 个 好 日子']\n",
    "refs=[['今天 天气 好', '今天 很 不错']]\n",
    "print(bleu.corpus_score(sys, refs))\n",
    "bleu.get_signature()\n",
    "chrf = CHRF()\n",
    "\n",
    "chrf.corpus_score(sys, refs)"
   ]
  },
  {
   "cell_type": "code",
   "execution_count": null,
   "metadata": {},
   "outputs": [],
   "source": [
    "with open('/home/jcxu/.sacrebleu/wmt17/en-zh.zh', 'r') as fd:\n",
    "    lines = fd.read().splitlines()\n",
    "print(lines[:5])\n",
    "\n",
    "# with open('/home/jcxu/.sacrebleu/wmt17/en-zh.en', 'r') as fd:\n",
    "#     lines = fd.read().splitlines()\n",
    "# print(lines[:5])\n",
    "\n",
    "import sacrebleu\n",
    "from sacremoses import MosesDetokenizer\n",
    "md = MosesDetokenizer(lang='zh')\n",
    "md.detokenize(lines[0])"
   ]
  },
  {
   "cell_type": "code",
   "execution_count": null,
   "metadata": {},
   "outputs": [],
   "source": []
  }
 ],
 "metadata": {
  "interpreter": {
   "hash": "420e4790e749986170d2d316725b5756d5f331ffd4b0489d14c96729efd01778"
  },
  "kernelspec": {
   "display_name": "Python 3.8.3 64-bit ('base': conda)",
   "name": "python3"
  },
  "language_info": {
   "codemirror_mode": {
    "name": "ipython",
    "version": 3
   },
   "file_extension": ".py",
   "mimetype": "text/x-python",
   "name": "python",
   "nbconvert_exporter": "python",
   "pygments_lexer": "ipython3",
   "version": "3.8.3"
  },
  "orig_nbformat": 4
 },
 "nbformat": 4,
 "nbformat_minor": 2
}
