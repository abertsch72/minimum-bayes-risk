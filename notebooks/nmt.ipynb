{
 "cells": [
  {
   "cell_type": "code",
   "execution_count": 2,
   "metadata": {},
   "outputs": [
    {
     "name": "stderr",
     "output_type": "stream",
     "text": [
      "WARNING:absl:Using custom data configuration fr-de\n"
     ]
    }
   ],
   "source": [
    "import datasets\n",
    "\n",
    "\n",
    "import tensorflow_datasets as tfds\n",
    "config = tfds.translate.wmt.WmtConfig(\n",
    "    version=\"0.0.1\",\n",
    "    language_pair=(\"fr\", \"de\"),\n",
    "    subsets={\n",
    "        tfds.Split.TRAIN: [\"commoncrawl_frde\"],\n",
    "        tfds.Split.VALIDATION: [\"euelections_dev2019\"],\n",
    "    },\n",
    ")\n",
    "builder = tfds.builder(\"wmt_translate\", config=config)"
   ]
  },
  {
   "cell_type": "code",
   "execution_count": 1,
   "metadata": {},
   "outputs": [
    {
     "name": "stderr",
     "output_type": "stream",
     "text": [
      "Using custom data configuration test\n"
     ]
    },
    {
     "name": "stdout",
     "output_type": "stream",
     "text": [
      "Downloading and preparing dataset xsum/test to /home/jcxu/.cache/huggingface/datasets/xsum/test/1.2.0/4957825a982999fbf80bca0b342793b01b2611e021ef589fb7c6250b3577b499...\n"
     ]
    },
    {
     "data": {
      "application/vnd.jupyter.widget-view+json": {
       "model_id": "6026be1b62b1403d8bd682ea42fa185a",
       "version_major": 2,
       "version_minor": 0
      },
      "text/plain": [
       "  0%|          | 0/2 [00:00<?, ?it/s]"
      ]
     },
     "metadata": {},
     "output_type": "display_data"
    },
    {
     "data": {
      "application/vnd.jupyter.widget-view+json": {
       "model_id": "4e004dbb39524980bfe05b22192deef4",
       "version_major": 2,
       "version_minor": 0
      },
      "text/plain": [
       "  0%|          | 0/2 [00:00<?, ?it/s]"
      ]
     },
     "metadata": {},
     "output_type": "display_data"
    },
    {
     "data": {
      "application/vnd.jupyter.widget-view+json": {
       "model_id": "0bda4d6efdc840ea8c9ac7da71b1175c",
       "version_major": 2,
       "version_minor": 0
      },
      "text/plain": [
       "0 examples [00:00, ? examples/s]"
      ]
     },
     "metadata": {},
     "output_type": "display_data"
    },
    {
     "data": {
      "application/vnd.jupyter.widget-view+json": {
       "model_id": "bb3caff195f64de3bf1b41c4d5e83d8f",
       "version_major": 2,
       "version_minor": 0
      },
      "text/plain": [
       "0 examples [00:00, ? examples/s]"
      ]
     },
     "metadata": {},
     "output_type": "display_data"
    },
    {
     "data": {
      "application/vnd.jupyter.widget-view+json": {
       "model_id": "f3ae8d6f068f4e16b75d7d6a1c374aa7",
       "version_major": 2,
       "version_minor": 0
      },
      "text/plain": [
       "0 examples [00:00, ? examples/s]"
      ]
     },
     "metadata": {},
     "output_type": "display_data"
    },
    {
     "name": "stdout",
     "output_type": "stream",
     "text": [
      "Dataset xsum downloaded and prepared to /home/jcxu/.cache/huggingface/datasets/xsum/test/1.2.0/4957825a982999fbf80bca0b342793b01b2611e021ef589fb7c6250b3577b499. Subsequent calls will reuse this data.\n"
     ]
    },
    {
     "data": {
      "application/vnd.jupyter.widget-view+json": {
       "model_id": "7a37d72b493a44c293905df8ef1909ec",
       "version_major": 2,
       "version_minor": 0
      },
      "text/plain": [
       "  0%|          | 0/3 [00:00<?, ?it/s]"
      ]
     },
     "metadata": {},
     "output_type": "display_data"
    }
   ],
   "source": [
    "from datasets import load_dataset\n",
    "\n",
    "dataset = load_dataset('xsum', 'test')"
   ]
  },
  {
   "cell_type": "code",
   "execution_count": 4,
   "metadata": {},
   "outputs": [
    {
     "name": "stdout",
     "output_type": "stream",
     "text": [
      "US technology firm Apple has offered to refund Australian customers who felt misled about the 4G capabilities of the new iPad.\n"
     ]
    }
   ],
   "source": [
    "d = dataset['validation']\n",
    "cnt = 500\n",
    "for ex in d:\n",
    "    print(ex['summary'])\n",
    "    break"
   ]
  },
  {
   "cell_type": "code",
   "execution_count": 10,
   "metadata": {},
   "outputs": [
    {
     "name": "stdout",
     "output_type": "stream",
     "text": [
      "{'translation': {'cs': 'Při nouzovém volání se profesor přiznal, že zastřelil svou přítelkyni', 'en': 'In 911 Call, Professor Admits to Shooting Girlfriend'}}\n"
     ]
    }
   ],
   "source": [
    "test_set = dataset['test']\n",
    "print(test_set[0])"
   ]
  },
  {
   "cell_type": "code",
   "execution_count": 11,
   "metadata": {},
   "outputs": [
    {
     "name": "stderr",
     "output_type": "stream",
     "text": [
      "/home/jcxu/miniconda3/lib/python3.8/site-packages/transformers/models/auto/modeling_auto.py:898: FutureWarning: The class `AutoModelWithLMHead` is deprecated and will be removed in a future version. Please use `AutoModelForCausalLM` for causal language models, `AutoModelForMaskedLM` for masked language models and `AutoModelForSeq2SeqLM` for encoder-decoder models.\n",
      "  warnings.warn(\n"
     ]
    }
   ],
   "source": [
    "# T5 translation\n",
    "from transformers import AutoTokenizer, AutoModelWithLMHead\n",
    "  \n",
    "tokenizer = AutoTokenizer.from_pretrained(\"t5-base\")\n",
    "\n",
    "model = AutoModelWithLMHead.from_pretrained(\"t5-base\")"
   ]
  },
  {
   "cell_type": "code",
   "execution_count": 1,
   "metadata": {},
   "outputs": [
    {
     "data": {
      "application/vnd.jupyter.widget-view+json": {
       "model_id": "62ca8a4296274c9a92ed41455958c8e4",
       "version_major": 2,
       "version_minor": 0
      },
      "text/plain": [
       "Downloading:   0%|          | 0.00/2.28G [00:00<?, ?B/s]"
      ]
     },
     "metadata": {},
     "output_type": "display_data"
    },
    {
     "data": {
      "application/vnd.jupyter.widget-view+json": {
       "model_id": "78282ffe141a42b782bc1f7a998ec0f6",
       "version_major": 2,
       "version_minor": 0
      },
      "text/plain": [
       "Downloading:   0%|          | 0.00/4.83M [00:00<?, ?B/s]"
      ]
     },
     "metadata": {},
     "output_type": "display_data"
    },
    {
     "data": {
      "application/vnd.jupyter.widget-view+json": {
       "model_id": "a583ef84ca8a435ba3507f913bcdf393",
       "version_major": 2,
       "version_minor": 0
      },
      "text/plain": [
       "Downloading:   0%|          | 0.00/717 [00:00<?, ?B/s]"
      ]
     },
     "metadata": {},
     "output_type": "display_data"
    },
    {
     "data": {
      "application/vnd.jupyter.widget-view+json": {
       "model_id": "df48367f45964350bd3bfa74f8ed8457",
       "version_major": 2,
       "version_minor": 0
      },
      "text/plain": [
       "Downloading:   0%|          | 0.00/528 [00:00<?, ?B/s]"
      ]
     },
     "metadata": {},
     "output_type": "display_data"
    },
    {
     "name": "stdout",
     "output_type": "stream",
     "text": [
      "tensor([[     2, 250012,      6,   3024,   8327,    154,   6342,  90454,    342,\n",
      "             37,  12819,  98769,   2880, 171364,  10883,  22547,  40338,  56283,\n",
      "          67535,  12219,      2]])\n"
     ]
    },
    {
     "data": {
      "text/plain": [
       "['国連の首脳は、シリアには軍事的な解決策はないと言っています']"
      ]
     },
     "execution_count": 1,
     "metadata": {},
     "output_type": "execute_result"
    }
   ],
   "source": [
    "# facebook mbart\n",
    "from transformers import MBartForConditionalGeneration, MBart50TokenizerFast\n",
    "article_en = \"The head of the United Nations says there is no military solution in Syria\"\n",
    "model = MBartForConditionalGeneration.from_pretrained(\"facebook/mbart-large-50-one-to-many-mmt\")\n",
    "tokenizer = MBart50TokenizerFast.from_pretrained(\"facebook/mbart-large-50-one-to-many-mmt\", src_lang=\"en_XX\")\n",
    "\n",
    "model_inputs = tokenizer(article_en, return_tensors=\"pt\")\n",
    "\n",
    "# translate from English to Chinese\n",
    "generated_tokens = model.generate(\n",
    "    **model_inputs,\n",
    "    forced_bos_token_id=tokenizer.lang_code_to_id[\"ja_XX\"]\n",
    ")\n",
    "print(generated_tokens)\n",
    "tokenizer.batch_decode(generated_tokens, skip_special_tokens=True)\n",
    "# => '联合国首脑说,叙利亚没有军事解决办法'"
   ]
  },
  {
   "cell_type": "code",
   "execution_count": 14,
   "metadata": {},
   "outputs": [
    {
     "name": "stdout",
     "output_type": "stream",
     "text": [
      "[\"Un chef de file des Nations Unies a affirmé qu'il n'y avait pas de solution militaire au problème en Syrie\", \"Le chef des Nations Unies a dit qu'il n'y aurait pas de solution militaire en Syrie\", \"Le président de l'ONU affirme qu'il ne peut y avoir de solution militaire en Syrie\", 'L’Assemblée générale, dans sa session de presse du 23 novembre 2003, a invité les Etats-Unis à participer à l’Assemblée générale et à l’Assemblée générale, dont elle aura l’occasion de se réunir pour réfléchir sur les questions à traiter.', \"Selon les propos du premier secrétaire général de l'ONU - « la paix est une chose et une autre » (paragraphe 4)\"]\n"
     ]
    }
   ],
   "source": [
    "generated_tokens = model.generate(\n",
    "    **model_inputs,\n",
    "    forced_bos_token_id=tokenizer.lang_code_to_id[\"fr_XX\"],num_return_sequences=5,num_beams=1,top_p=0.99, do_sample=True\n",
    ")\n",
    "# print(generated_tokens)\n",
    "print(tokenizer.batch_decode(generated_tokens, skip_special_tokens=True))"
   ]
  },
  {
   "cell_type": "code",
   "execution_count": 13,
   "metadata": {},
   "outputs": [
    {
     "name": "stdout",
     "output_type": "stream",
     "text": [
      "['联合国主席说,叙利亚没有军事解决办法', '联合国首脑说,叙利亚没有军事解决办法', '联合国主席说,叙利亚没有军事解决办法', '联合国首脑说,叙利亚没有军事解决办法', '联合国的负责人说,叙利亚没有军事解决办法']\n"
     ]
    }
   ],
   "source": [
    "generated_tokens = model.generate(\n",
    "    **model_inputs,\n",
    "    forced_bos_token_id=tokenizer.lang_code_to_id[\"zh_CN\"],num_return_sequences=5,num_beams=1,top_p=0.5, do_sample=True\n",
    ")\n",
    "# print(generated_tokens)\n",
    "print(tokenizer.batch_decode(generated_tokens, skip_special_tokens=True))"
   ]
  },
  {
   "cell_type": "code",
   "execution_count": 1,
   "metadata": {},
   "outputs": [],
   "source": [
    "from transformers import MBartForConditionalGeneration, MBart50TokenizerFast\n",
    "\n",
    "article_hi = \"संयुक्त राष्ट्र के प्रमुख का कहना है कि सीरिया में कोई सैन्य समाधान नहीं है\"\n",
    "article_ar = \"الأمين العام للأمم المتحدة يقول إنه لا يوجد حل عسكري في سوريا.\"\n",
    "article_zh = \"全球主要经济体的领导人同意采取“有意义和有效的行动”，努力控制全球变暖。但是，在罗马举行的G20峰会上达成的协议几乎没有做出具体承诺，这让活动人士感到失望。主办国意大利曾希望在格拉斯哥召开的COP26峰会之前设定明确目标，而这次峰会现在已经开始了。\"\n",
    "\n",
    "# model = MBartForConditionalGeneration.from_pretrained(\"facebook/mbart-large-50-many-to-one-mmt\")\n",
    "tokenizer = MBart50TokenizerFast.from_pretrained(\"facebook/mbart-large-50-many-to-one-mmt\")\n"
   ]
  },
  {
   "cell_type": "code",
   "execution_count": 10,
   "metadata": {},
   "outputs": [
    {
     "name": "stdout",
     "output_type": "stream",
     "text": [
      "april\n",
      "▁april\n",
      "2\n"
     ]
    }
   ],
   "source": [
    "x = 10740\n",
    "print(tokenizer.decode([x]))\n",
    "print(tokenizer.convert_ids_to_tokens(x))\n",
    "print(tokenizer.eos_token_id)"
   ]
  },
  {
   "cell_type": "code",
   "execution_count": 44,
   "metadata": {},
   "outputs": [
    {
     "name": "stdout",
     "output_type": "stream",
     "text": [
      "{'bos_token': '<s>', 'eos_token': '</s>', 'unk_token': '<unk>', 'sep_token': '</s>', 'pad_token': '<pad>', 'cls_token': '<s>', 'mask_token': '<mask>', 'additional_special_tokens': ['ar_AR', 'cs_CZ', 'de_DE', 'en_XX', 'es_XX', 'et_EE', 'fi_FI', 'fr_XX', 'gu_IN', 'hi_IN', 'it_IT', 'ja_XX', 'kk_KZ', 'ko_KR', 'lt_LT', 'lv_LV', 'my_MM', 'ne_NP', 'nl_XX', 'ro_RO', 'ru_RU', 'si_LK', 'tr_TR', 'vi_VN', 'zh_CN', 'af_ZA', 'az_AZ', 'bn_IN', 'fa_IR', 'he_IL', 'hr_HR', 'id_ID', 'ka_GE', 'km_KH', 'mk_MK', 'ml_IN', 'mn_MN', 'mr_IN', 'pl_PL', 'ps_AF', 'pt_XX', 'sv_SE', 'sw_KE', 'ta_IN', 'te_IN', 'th_TH', 'tl_XX', 'uk_UA', 'ur_PK', 'xh_ZA', 'gl_ES', 'sl_SI']}\n",
      "{'ar_AR': 250001, 'cs_CZ': 250002, 'de_DE': 250003, 'en_XX': 250004, 'es_XX': 250005, 'et_EE': 250006, 'fi_FI': 250007, 'fr_XX': 250008, 'gu_IN': 250009, 'hi_IN': 250010, 'it_IT': 250011, 'ja_XX': 250012, 'kk_KZ': 250013, 'ko_KR': 250014, 'lt_LT': 250015, 'lv_LV': 250016, 'my_MM': 250017, 'ne_NP': 250018, 'nl_XX': 250019, 'ro_RO': 250020, 'ru_RU': 250021, 'si_LK': 250022, 'tr_TR': 250023, 'vi_VN': 250024, 'zh_CN': 250025, 'af_ZA': 250026, 'az_AZ': 250027, 'bn_IN': 250028, 'fa_IR': 250029, 'he_IL': 250030, 'hr_HR': 250031, 'id_ID': 250032, 'ka_GE': 250033, 'km_KH': 250034, 'mk_MK': 250035, 'ml_IN': 250036, 'mn_MN': 250037, 'mr_IN': 250038, 'pl_PL': 250039, 'ps_AF': 250040, 'pt_XX': 250041, 'sv_SE': 250042, 'sw_KE': 250043, 'ta_IN': 250044, 'te_IN': 250045, 'th_TH': 250046, 'tl_XX': 250047, 'uk_UA': 250048, 'ur_PK': 250049, 'xh_ZA': 250050, 'gl_ES': 250051, 'sl_SI': 250052}\n",
      "['ar_AR', 'cs_CZ', 'de_DE', 'en_XX', 'es_XX', 'et_EE', 'fi_FI', 'fr_XX', 'gu_IN', 'hi_IN', 'it_IT', 'ja_XX', 'kk_KZ', 'ko_KR', 'lt_LT', 'lv_LV', 'my_MM', 'ne_NP', 'nl_XX', 'ro_RO', 'ru_RU', 'si_LK', 'tr_TR', 'vi_VN', 'zh_CN', 'af_ZA', 'az_AZ', 'bn_IN', 'fa_IR', 'he_IL', 'hr_HR', 'id_ID', 'ka_GE', 'km_KH', 'mk_MK', 'ml_IN', 'mn_MN', 'mr_IN', 'pl_PL', 'ps_AF', 'pt_XX', 'sv_SE', 'sw_KE', 'ta_IN', 'te_IN', 'th_TH', 'tl_XX', 'uk_UA', 'ur_PK', 'xh_ZA', 'gl_ES', 'sl_SI']\n",
      "tensor([[     2, 250004,    581,  10336,    111,     70,   8274,  17378,   2685,\n",
      "             83,    110, 116338,  29806,     23,  51712,      5,      2]])\n",
      "tensor([[     2, 250004,    581, 196212,      9, 159342,    111,     70,  14098,\n",
      "         145704,  17378,   2685,     83,    110, 116338,  29806,     23,  51712,\n",
      "              5,      2]])\n",
      "tensor([[     2, 250004, 147305,      7,    111,     70,   8999,     25,      7,\n",
      "          13036,  97558,      7,    765, 176506,     47,   5646,     44,  37440,\n",
      "            592,   7844,    136,  60266,  22631,     58,     47,   9709,    275,\n",
      "           7964,  24814,    214,      4,   1284, 177500,      7,    765,   2809,\n",
      "         242980,    390,     70,  92635,    111, 122776, 166794,      7, 157578,\n",
      "             99,     70,    527,   1549, 184679,     23,  51651,      4,   3129,\n",
      "          98848,      4,     70,  27980,  23295,      4,   1902,  15673,     71,\n",
      "           2806,   5423,  34735,  30388,      7,   8108,     70, 153003,   4046,\n",
      "             23, 181787,      4,    136,   3129,   1556,   5036,    186,   6967,\n",
      "              5,      2]])\n"
     ]
    }
   ],
   "source": [
    "print(tokenizer.special_tokens_map)\n",
    "print(tokenizer.lang_code_to_id)\n",
    "print(tokenizer.special_tokens_map['additional_special_tokens'])\n",
    "# translate Hindi to English\n",
    "tokenizer.src_lang = \"hi_IN\"\n",
    "encoded_hi = tokenizer(article_hi, return_tensors=\"pt\")\n",
    "generated_tokens = model.generate(**encoded_hi)\n",
    "tokenizer.batch_decode(generated_tokens, skip_special_tokens=True)\n",
    "# => \"The head of the UN says there is no military solution in Syria.\"\n",
    "print(generated_tokens)\n",
    "# print(tokenizer.lang_code_to_id(\"hi_IN\"))\n",
    "# translate Arabic to English\n",
    "tokenizer.src_lang = \"ar_AR\"\n",
    "encoded_ar = tokenizer(article_ar, return_tensors=\"pt\")\n",
    "generated_tokens = model.generate(**encoded_ar)\n",
    "tokenizer.batch_decode(generated_tokens, skip_special_tokens=True)\n",
    "# => \"The Secretary-General of the United Nations says there is no military solution in Syria.\"\n",
    "print(generated_tokens)\n",
    "\n",
    "\n",
    "# translate Arabic to English\n",
    "tokenizer.src_lang = \"zh_CN\"\n",
    "encoded_ar = tokenizer(article_zh, return_tensors=\"pt\")\n",
    "generated_tokens = model.generate(**encoded_ar)\n",
    "tokenizer.batch_decode(generated_tokens, skip_special_tokens=True)\n",
    "print(generated_tokens)\n",
    "\n",
    "# => \"The Secretary-General of the United Nations says there is no military solution in Syria.\"\n",
    "\n"
   ]
  },
  {
   "cell_type": "code",
   "execution_count": 48,
   "metadata": {},
   "outputs": [
    {
     "name": "stdout",
     "output_type": "stream",
     "text": [
      "</s>\n"
     ]
    }
   ],
   "source": [
    "print(tokenizer.decode(2))"
   ]
  },
  {
   "cell_type": "code",
   "execution_count": 35,
   "metadata": {},
   "outputs": [
    {
     "name": "stdout",
     "output_type": "stream",
     "text": [
      "tensor([[     2, 250022,  58353,   1816,     32,      2]])\n",
      "</s>hi_IN संयुक्त\n",
      "</s>zh_CN \n"
     ]
    }
   ],
   "source": [
    "\n",
    "# translate Hindi to English\n",
    "article_hi = \"संयुक्त राष्ट्र के प्रमुख का कहना है कि सीरिया में कोई सैन्य समाधान नहीं है\"\n",
    "article_zh=\"为什么是这？谁知道\"\n",
    "# translate Arabic to English\n",
    "tokenizer.src_lang = \"zh_CN\"\n",
    "encoded_ar = tokenizer(article_zh, return_tensors=\"pt\")\n",
    "generated_tokens = model.generate(**encoded_ar)\n",
    "tokenizer.batch_decode(generated_tokens, skip_special_tokens=True)\n",
    "print(generated_tokens)\n",
    "\n",
    "print(tokenizer.decode([2,250010,44269],skip_special_tokens=False)) \n",
    "print(tokenizer.decode([2, 250025,6],skip_special_tokens=False))"
   ]
  },
  {
   "cell_type": "code",
   "execution_count": 1,
   "metadata": {},
   "outputs": [],
   "source": [
    "from datasets import load_metric\n",
    "from sacrebleu.metrics import BLEU, CHRF, TER"
   ]
  },
  {
   "cell_type": "code",
   "execution_count": 7,
   "metadata": {},
   "outputs": [
    {
     "name": "stdout",
     "output_type": "stream",
     "text": [
      "BLEU = 12.70 40.0/12.5/8.3/6.2 (BP = 1.000 ratio = 1.667 hyp_len = 5 ref_len = 3)\n"
     ]
    },
    {
     "data": {
      "text/plain": [
       "chrF2 = 15.66"
      ]
     },
     "execution_count": 7,
     "metadata": {},
     "output_type": "execute_result"
    }
   ],
   "source": [
    "bleu = BLEU()\n",
    "sys = ['今天 是 个 好 日子']\n",
    "refs=[['今天 天气 好', '今天 很 不错']]\n",
    "print(bleu.corpus_score(sys, refs))\n",
    "bleu.get_signature()\n",
    "chrf = CHRF()\n",
    "\n",
    "chrf.corpus_score(sys, refs)"
   ]
  },
  {
   "cell_type": "code",
   "execution_count": 13,
   "metadata": {},
   "outputs": [
    {
     "name": "stdout",
     "output_type": "stream",
     "text": [
      "['28岁厨师被发现死于旧金山一家商场', '近日刚搬至旧金山的一位28岁厨师本周被发现死于当地一家商场的楼梯间。', '但受害人的哥哥表示想不出有谁会想要加害于他，并称“一切终于好起来了。”', '旧金山验尸官办公室表示，周三早上于西田购物中心发现的尸体确认为28岁旧金山居民 Frank Galicia。', '旧金山警察局称该起死亡案件被裁定为他杀，并正在进行调查。']\n"
     ]
    },
    {
     "data": {
      "text/plain": [
       "'2 8 岁厨师被发现死于旧金山一家商场'"
      ]
     },
     "execution_count": 13,
     "metadata": {},
     "output_type": "execute_result"
    }
   ],
   "source": [
    "with open('/home/jcxu/.sacrebleu/wmt17/en-zh.zh', 'r') as fd:\n",
    "    lines = fd.read().splitlines()\n",
    "print(lines[:5])\n",
    "\n",
    "# with open('/home/jcxu/.sacrebleu/wmt17/en-zh.en', 'r') as fd:\n",
    "#     lines = fd.read().splitlines()\n",
    "# print(lines[:5])\n",
    "\n",
    "import sacrebleu\n",
    "from sacremoses import MosesDetokenizer\n",
    "md = MosesDetokenizer(lang='zh')\n",
    "md.detokenize(lines[0])"
   ]
  },
  {
   "cell_type": "code",
   "execution_count": null,
   "metadata": {},
   "outputs": [],
   "source": []
  }
 ],
 "metadata": {
  "interpreter": {
   "hash": "420e4790e749986170d2d316725b5756d5f331ffd4b0489d14c96729efd01778"
  },
  "kernelspec": {
   "display_name": "Python 3.8.3 64-bit ('base': conda)",
   "name": "python3"
  },
  "language_info": {
   "codemirror_mode": {
    "name": "ipython",
    "version": 3
   },
   "file_extension": ".py",
   "mimetype": "text/x-python",
   "name": "python",
   "nbconvert_exporter": "python",
   "pygments_lexer": "ipython3",
   "version": "3.8.3"
  },
  "orig_nbformat": 4
 },
 "nbformat": 4,
 "nbformat_minor": 2
}
